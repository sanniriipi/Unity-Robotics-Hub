{
  "nbformat": 4,
  "nbformat_minor": 0,
  "metadata": {
    "colab": {
      "provenance": [],
      "include_colab_link": true
    },
    "kernelspec": {
      "name": "python3",
      "display_name": "Python 3"
    },
    "accelerator": "GPU"
  },
  "cells": [
    {
      "cell_type": "markdown",
      "metadata": {
        "id": "view-in-github",
        "colab_type": "text"
      },
      "source": [
        "<a href=\"https://colab.research.google.com/github/sanniriipi/Unity-Robotics-Hub/blob/main/Kopio_Train_a_GPT_2_Text_Generating_Model_w_GPU_.ipynb\" target=\"_parent\"><img src=\"https://colab.research.google.com/assets/colab-badge.svg\" alt=\"Open In Colab\"/></a>"
      ]
    },
    {
      "cell_type": "markdown",
      "metadata": {
        "id": "H7LoMj4GA4n_"
      },
      "source": [
        "#  Train a GPT-2 Text-Generating Model w/ GPU For Free\n",
        "\n",
        "by [Max Woolf](http://minimaxir.com)\n",
        "\n",
        "*Last updated: November 10th, 2019*\n",
        "\n",
        "Retrain an advanced text generating neural network on any text dataset **for free on a GPU using Collaboratory** using `gpt-2-simple`!\n",
        "\n",
        "For more about `gpt-2-simple`, you can visit [this GitHub repository](https://github.com/minimaxir/gpt-2-simple). You can also read my [blog post](https://minimaxir.com/2019/09/howto-gpt2/) for more information how to use this notebook!\n",
        "\n",
        "\n",
        "To get started:\n",
        "\n",
        "1. Copy this notebook to your Google Drive to keep it and save your changes. (File -> Save a Copy in Drive)\n",
        "2. Make sure you're running the notebook in Google Chrome.\n",
        "3. Run the cells below:\n"
      ]
    },
    {
      "cell_type": "code",
      "metadata": {
        "id": "KBkpRgBCBS2_",
        "colab": {
          "base_uri": "https://localhost:8080/"
        },
        "outputId": "b981dd05-995d-44e9-c29f-0bbc7ff55fac"
      },
      "source": [
        "!pip install -q gpt-2-simple\n",
        "import gpt_2_simple as gpt2\n",
        "from datetime import datetime\n",
        "from google.colab import files"
      ],
      "execution_count": null,
      "outputs": [
        {
          "output_type": "stream",
          "name": "stdout",
          "text": [
            "  Preparing metadata (setup.py) ... \u001b[?25l\u001b[?25hdone\n",
            "  Building wheel for gpt-2-simple (setup.py) ... \u001b[?25l\u001b[?25hdone\n"
          ]
        }
      ]
    },
    {
      "cell_type": "markdown",
      "metadata": {
        "id": "Bj2IJLHP3KwE"
      },
      "source": [
        "## GPU\n",
        "\n",
        "Colaboratory uses either a Nvidia T4 GPU or an Nvidia K80 GPU. The T4 is slightly faster than the old K80 for training GPT-2, and has more memory allowing you to train the larger GPT-2 models and generate more text.\n",
        "\n",
        "You can verify which GPU is active by running the cell below."
      ]
    },
    {
      "cell_type": "code",
      "metadata": {
        "id": "sUmTooTW3osf",
        "outputId": "3c2932c5-05ee-45e4-a9e0-1c567191ba44",
        "colab": {
          "base_uri": "https://localhost:8080/"
        }
      },
      "source": [
        "!nvidia-smi"
      ],
      "execution_count": null,
      "outputs": [
        {
          "output_type": "stream",
          "name": "stdout",
          "text": [
            "Wed Sep  4 09:03:21 2024       \n",
            "+---------------------------------------------------------------------------------------+\n",
            "| NVIDIA-SMI 535.104.05             Driver Version: 535.104.05   CUDA Version: 12.2     |\n",
            "|-----------------------------------------+----------------------+----------------------+\n",
            "| GPU  Name                 Persistence-M | Bus-Id        Disp.A | Volatile Uncorr. ECC |\n",
            "| Fan  Temp   Perf          Pwr:Usage/Cap |         Memory-Usage | GPU-Util  Compute M. |\n",
            "|                                         |                      |               MIG M. |\n",
            "|=========================================+======================+======================|\n",
            "|   0  Tesla T4                       Off | 00000000:00:04.0 Off |                    0 |\n",
            "| N/A   62C    P8              11W /  70W |      0MiB / 15360MiB |      0%      Default |\n",
            "|                                         |                      |                  N/A |\n",
            "+-----------------------------------------+----------------------+----------------------+\n",
            "                                                                                         \n",
            "+---------------------------------------------------------------------------------------+\n",
            "| Processes:                                                                            |\n",
            "|  GPU   GI   CI        PID   Type   Process name                            GPU Memory |\n",
            "|        ID   ID                                                             Usage      |\n",
            "|=======================================================================================|\n",
            "|  No running processes found                                                           |\n",
            "+---------------------------------------------------------------------------------------+\n"
          ]
        }
      ]
    },
    {
      "cell_type": "markdown",
      "metadata": {
        "id": "0wXB05bPDYxS"
      },
      "source": [
        "## Downloading GPT-2\n",
        "\n",
        "If you're retraining a model on new text, you need to download the GPT-2 model first.\n",
        "\n",
        "There are three released sizes of GPT-2:\n",
        "\n",
        "* `124M` (default): the \"small\" model, 500MB on disk.\n",
        "* `355M`: the \"medium\" model, 1.5GB on disk.\n",
        "* `774M`: the \"large\" model, cannot currently be finetuned with Colaboratory but can be used to generate text from the pretrained model (see later in Notebook)\n",
        "* `1558M`: the \"extra large\", true model. Will not work if a K80 GPU is attached to the notebook. (like `774M`, it cannot be finetuned).\n",
        "\n",
        "Larger models have more knowledge, but take longer to finetune and longer to generate text. You can specify which base model to use by changing `model_name` in the cells below.\n",
        "\n",
        "The next cell downloads it from Google Cloud Storage and saves it in the Colaboratory VM at `/models/<model_name>`.\n",
        "\n",
        "This model isn't permanently saved in the Colaboratory VM; you'll have to redownload it if you want to retrain it at a later time."
      ]
    },
    {
      "cell_type": "code",
      "metadata": {
        "id": "P8wSlgXoDPCR",
        "outputId": "55fd9c61-5173-421d-aaf2-5bb9b56a1d49",
        "colab": {
          "base_uri": "https://localhost:8080/"
        }
      },
      "source": [
        "gpt2.download_gpt2(model_name=\"124M\")"
      ],
      "execution_count": null,
      "outputs": [
        {
          "output_type": "stream",
          "name": "stderr",
          "text": [
            "Fetching checkpoint: 1.05Mit [00:00, 4.73Git/s]                                                     \n",
            "Fetching encoder.json: 1.05Mit [00:00, 2.74Mit/s]\n",
            "Fetching hparams.json: 1.05Mit [00:00, 4.96Git/s]                                                   \n",
            "Fetching model.ckpt.data-00000-of-00001: 498Mit [00:20, 24.2Mit/s]\n",
            "Fetching model.ckpt.index: 1.05Mit [00:00, 3.49Git/s]                                               \n",
            "Fetching model.ckpt.meta: 1.05Mit [00:00, 3.54Mit/s]\n",
            "Fetching vocab.bpe: 1.05Mit [00:00, 3.61Mit/s]\n"
          ]
        }
      ]
    },
    {
      "cell_type": "markdown",
      "metadata": {
        "id": "N8KXuKWzQSsN"
      },
      "source": [
        "## Mounting Google Drive\n",
        "\n",
        "The best way to get input text to-be-trained into the Colaboratory VM, and to get the trained model *out* of Colaboratory, is to route it through Google Drive *first*.\n",
        "\n",
        "Running this cell (which will only work in Colaboratory) will mount your personal Google Drive in the VM, which later cells can use to get data in/out. (it will ask for an auth code; that auth is not saved anywhere)"
      ]
    },
    {
      "cell_type": "code",
      "metadata": {
        "id": "puq4iC6vUAHc",
        "colab": {
          "base_uri": "https://localhost:8080/"
        },
        "outputId": "0a148799-b701-4eb4-8f1d-2207e35c2559"
      },
      "source": [
        "gpt2.mount_gdrive()"
      ],
      "execution_count": null,
      "outputs": [
        {
          "output_type": "stream",
          "name": "stdout",
          "text": [
            "Mounted at /content/drive\n"
          ]
        }
      ]
    },
    {
      "cell_type": "markdown",
      "metadata": {
        "id": "BT__brhBCvJu"
      },
      "source": [
        "## Uploading a Text File to be Trained to Colaboratory\n",
        "\n",
        "In the Colaboratory Notebook sidebar on the left of the screen, select *Files*. From there you can upload files:\n",
        "\n",
        "![alt text](https://i.imgur.com/TGcZT4h.png)\n",
        "\n",
        "Upload **any smaller text file**  (<10 MB) and update the file name in the cell below, then run the cell."
      ]
    },
    {
      "cell_type": "code",
      "metadata": {
        "id": "6OFnPCLADfll"
      },
      "source": [
        "file_name = \"shakespeare.txt\""
      ],
      "execution_count": null,
      "outputs": []
    },
    {
      "cell_type": "markdown",
      "metadata": {
        "id": "HeeSKtNWUedE"
      },
      "source": [
        "If your text file is larger than 10MB, it is recommended to upload that file to Google Drive first, then copy that file from Google Drive to the Colaboratory VM."
      ]
    },
    {
      "cell_type": "code",
      "metadata": {
        "id": "-Z6okFD8VKtS"
      },
      "source": [
        "gpt2.copy_file_from_gdrive(file_name)"
      ],
      "execution_count": null,
      "outputs": []
    },
    {
      "cell_type": "markdown",
      "metadata": {
        "id": "LdpZQXknFNY3"
      },
      "source": [
        "## Finetune GPT-2\n",
        "\n",
        "The next cell will start the actual finetuning of GPT-2. It creates a persistent TensorFlow session which stores the training config, then runs the training for the specified number of `steps`. (to have the finetuning run indefinitely, set `steps = -1`)\n",
        "\n",
        "The model checkpoints will be saved in `/checkpoint/run1` by default. The checkpoints are saved every 500 steps (can be changed) and when the cell is stopped.\n",
        "\n",
        "The training might time out after 4ish hours; make sure you end training and save the results so you don't lose them!\n",
        "\n",
        "**IMPORTANT NOTE:** If you want to rerun this cell, **restart the VM first** (Runtime -> Restart Runtime). You will need to rerun imports but not recopy files.\n",
        "\n",
        "Other optional-but-helpful parameters for `gpt2.finetune`:\n",
        "\n",
        "\n",
        "*  **`restore_from`**: Set to `fresh` to start training from the base GPT-2, or set to `latest` to restart training from an existing checkpoint.\n",
        "* **`sample_every`**: Number of steps to print example output\n",
        "* **`print_every`**: Number of steps to print training progress.\n",
        "* **`learning_rate`**:  Learning rate for the training. (default `1e-4`, can lower to `1e-5` if you have <1MB input data)\n",
        "*  **`run_name`**: subfolder within `checkpoint` to save the model. This is useful if you want to work with multiple models (will also need to specify  `run_name` when loading the model)\n",
        "* **`overwrite`**: Set to `True` if you want to continue finetuning an existing model (w/ `restore_from='latest'`) without creating duplicate copies."
      ]
    },
    {
      "cell_type": "code",
      "metadata": {
        "id": "aeXshJM-Cuaf",
        "outputId": "01b548cf-6333-421a-f3d6-8c6bf0399834",
        "colab": {
          "base_uri": "https://localhost:8080/"
        }
      },
      "source": [
        "!pip install tensorflow # Install Tensorflow\n",
        "import tensorflow as tf # imports the tensorflow module and assigns it to the alias 'tf'\n",
        "tf.compat.v1.reset_default_graph()\n",
        "sess = gpt2.start_tf_sess()\n",
        "\n",
        "gpt2.finetune(sess,\n",
        "              dataset=file_name,\n",
        "              model_name='124M',\n",
        "              steps=1000,\n",
        "              restore_from='fresh',\n",
        "              run_name='run1',\n",
        "              print_every=10,\n",
        "              sample_every=200,\n",
        "              save_every=500\n",
        "              )"
      ],
      "execution_count": null,
      "outputs": [
        {
          "metadata": {
            "tags": null
          },
          "name": "stdout",
          "output_type": "stream",
          "text": [
            "Requirement already satisfied: tensorflow in /usr/local/lib/python3.10/dist-packages (2.17.0)\n",
            "Requirement already satisfied: absl-py>=1.0.0 in /usr/local/lib/python3.10/dist-packages (from tensorflow) (1.4.0)\n",
            "Requirement already satisfied: astunparse>=1.6.0 in /usr/local/lib/python3.10/dist-packages (from tensorflow) (1.6.3)\n",
            "Requirement already satisfied: flatbuffers>=24.3.25 in /usr/local/lib/python3.10/dist-packages (from tensorflow) (24.3.25)\n",
            "Requirement already satisfied: gast!=0.5.0,!=0.5.1,!=0.5.2,>=0.2.1 in /usr/local/lib/python3.10/dist-packages (from tensorflow) (0.6.0)\n",
            "Requirement already satisfied: google-pasta>=0.1.1 in /usr/local/lib/python3.10/dist-packages (from tensorflow) (0.2.0)\n",
            "Requirement already satisfied: h5py>=3.10.0 in /usr/local/lib/python3.10/dist-packages (from tensorflow) (3.11.0)\n",
            "Requirement already satisfied: libclang>=13.0.0 in /usr/local/lib/python3.10/dist-packages (from tensorflow) (18.1.1)\n",
            "Requirement already satisfied: ml-dtypes<0.5.0,>=0.3.1 in /usr/local/lib/python3.10/dist-packages (from tensorflow) (0.4.0)\n",
            "Requirement already satisfied: opt-einsum>=2.3.2 in /usr/local/lib/python3.10/dist-packages (from tensorflow) (3.3.0)\n",
            "Requirement already satisfied: packaging in /usr/local/lib/python3.10/dist-packages (from tensorflow) (24.1)\n",
            "Requirement already satisfied: protobuf!=4.21.0,!=4.21.1,!=4.21.2,!=4.21.3,!=4.21.4,!=4.21.5,<5.0.0dev,>=3.20.3 in /usr/local/lib/python3.10/dist-packages (from tensorflow) (3.20.3)\n",
            "Requirement already satisfied: requests<3,>=2.21.0 in /usr/local/lib/python3.10/dist-packages (from tensorflow) (2.32.3)\n",
            "Requirement already satisfied: setuptools in /usr/local/lib/python3.10/dist-packages (from tensorflow) (71.0.4)\n",
            "Requirement already satisfied: six>=1.12.0 in /usr/local/lib/python3.10/dist-packages (from tensorflow) (1.16.0)\n",
            "Requirement already satisfied: termcolor>=1.1.0 in /usr/local/lib/python3.10/dist-packages (from tensorflow) (2.4.0)\n",
            "Requirement already satisfied: typing-extensions>=3.6.6 in /usr/local/lib/python3.10/dist-packages (from tensorflow) (4.12.2)\n",
            "Requirement already satisfied: wrapt>=1.11.0 in /usr/local/lib/python3.10/dist-packages (from tensorflow) (1.16.0)\n",
            "Requirement already satisfied: grpcio<2.0,>=1.24.3 in /usr/local/lib/python3.10/dist-packages (from tensorflow) (1.64.1)\n",
            "Requirement already satisfied: tensorboard<2.18,>=2.17 in /usr/local/lib/python3.10/dist-packages (from tensorflow) (2.17.0)\n",
            "Requirement already satisfied: keras>=3.2.0 in /usr/local/lib/python3.10/dist-packages (from tensorflow) (3.4.1)\n",
            "Requirement already satisfied: tensorflow-io-gcs-filesystem>=0.23.1 in /usr/local/lib/python3.10/dist-packages (from tensorflow) (0.37.1)\n",
            "Requirement already satisfied: numpy<2.0.0,>=1.23.5 in /usr/local/lib/python3.10/dist-packages (from tensorflow) (1.26.4)\n",
            "Requirement already satisfied: wheel<1.0,>=0.23.0 in /usr/local/lib/python3.10/dist-packages (from astunparse>=1.6.0->tensorflow) (0.44.0)\n",
            "Requirement already satisfied: rich in /usr/local/lib/python3.10/dist-packages (from keras>=3.2.0->tensorflow) (13.8.0)\n",
            "Requirement already satisfied: namex in /usr/local/lib/python3.10/dist-packages (from keras>=3.2.0->tensorflow) (0.0.8)\n",
            "Requirement already satisfied: optree in /usr/local/lib/python3.10/dist-packages (from keras>=3.2.0->tensorflow) (0.12.1)\n",
            "Requirement already satisfied: charset-normalizer<4,>=2 in /usr/local/lib/python3.10/dist-packages (from requests<3,>=2.21.0->tensorflow) (3.3.2)\n",
            "Requirement already satisfied: idna<4,>=2.5 in /usr/local/lib/python3.10/dist-packages (from requests<3,>=2.21.0->tensorflow) (3.8)\n",
            "Requirement already satisfied: urllib3<3,>=1.21.1 in /usr/local/lib/python3.10/dist-packages (from requests<3,>=2.21.0->tensorflow) (2.0.7)\n",
            "Requirement already satisfied: certifi>=2017.4.17 in /usr/local/lib/python3.10/dist-packages (from requests<3,>=2.21.0->tensorflow) (2024.7.4)\n",
            "Requirement already satisfied: markdown>=2.6.8 in /usr/local/lib/python3.10/dist-packages (from tensorboard<2.18,>=2.17->tensorflow) (3.7)\n",
            "Requirement already satisfied: tensorboard-data-server<0.8.0,>=0.7.0 in /usr/local/lib/python3.10/dist-packages (from tensorboard<2.18,>=2.17->tensorflow) (0.7.2)\n",
            "Requirement already satisfied: werkzeug>=1.0.1 in /usr/local/lib/python3.10/dist-packages (from tensorboard<2.18,>=2.17->tensorflow) (3.0.4)\n",
            "Requirement already satisfied: MarkupSafe>=2.1.1 in /usr/local/lib/python3.10/dist-packages (from werkzeug>=1.0.1->tensorboard<2.18,>=2.17->tensorflow) (2.1.5)\n",
            "Requirement already satisfied: markdown-it-py>=2.2.0 in /usr/local/lib/python3.10/dist-packages (from rich->keras>=3.2.0->tensorflow) (3.0.0)\n",
            "Requirement already satisfied: pygments<3.0.0,>=2.13.0 in /usr/local/lib/python3.10/dist-packages (from rich->keras>=3.2.0->tensorflow) (2.16.1)\n",
            "Requirement already satisfied: mdurl~=0.1 in /usr/local/lib/python3.10/dist-packages (from markdown-it-py>=2.2.0->rich->keras>=3.2.0->tensorflow) (0.1.2)\n",
            "Loading checkpoint models/124M/model.ckpt\n",
            "Loading dataset...\n"
          ]
        },
        {
          "metadata": {
            "tags": null
          },
          "name": "stderr",
          "output_type": "stream",
          "text": [
            "100%|██████████| 1/1 [00:00<00:00, 4341.93it/s]"
          ]
        },
        {
          "metadata": {
            "tags": null
          },
          "name": "stdout",
          "output_type": "stream",
          "text": [
            "dataset has 1865 tokens\n",
            "Training...\n"
          ]
        },
        {
          "metadata": {
            "tags": null
          },
          "name": "stderr",
          "output_type": "stream",
          "text": [
            "\n"
          ]
        },
        {
          "output_type": "stream",
          "name": "stdout",
          "text": [
            "[10 | 30.36] loss=3.14 avg=3.14\n",
            "[20 | 54.10] loss=1.40 avg=2.27\n",
            "[30 | 77.15] loss=0.30 avg=1.61\n",
            "[40 | 100.60] loss=0.05 avg=1.21\n",
            "[50 | 124.50] loss=0.03 avg=0.97\n",
            "[60 | 148.07] loss=0.02 avg=0.81\n",
            "[70 | 171.41] loss=0.01 avg=0.69\n",
            "[80 | 194.92] loss=0.02 avg=0.60\n",
            "[90 | 218.55] loss=0.02 avg=0.54\n",
            "[100 | 242.10] loss=0.01 avg=0.48\n",
            "[110 | 265.60] loss=0.01 avg=0.44\n",
            "[120 | 289.10] loss=0.01 avg=0.40\n",
            "[130 | 312.56] loss=0.01 avg=0.37\n",
            "[140 | 335.98] loss=0.01 avg=0.34\n",
            "[150 | 359.37] loss=0.01 avg=0.32\n",
            "[160 | 382.80] loss=0.01 avg=0.30\n",
            "[170 | 406.28] loss=0.01 avg=0.28\n",
            "[180 | 429.74] loss=0.01 avg=0.26\n",
            "[190 | 453.19] loss=0.01 avg=0.25\n",
            "[200 | 476.67] loss=0.01 avg=0.23\n",
            "======== SAMPLE 1 ========\n",
            ", opinnäytetyöskentelyssä opit:\n",
            "\n",
            "tunnistamaan, määrittelemään ja ratkaisemaan työelämän tehtäviä\n",
            "\n",
            "hankkimaan ja hallitsemaan tehtävässä tarvittavaa tietoa\n",
            "\n",
            "työskentelemään itsenäisesti ja vastuullisesti yhteistyössä eri tahojen kanssa\n",
            "\n",
            "hallitsemaan prosesseja\n",
            "\n",
            "arvioimaan omaa toimintaasi ja kehittämään sitä\n",
            "\n",
            "esittämään työtäsi suullisesti ja kirjallisesti.\n",
            "\n",
            "AMK opinnäytetyössä kartutat osaamistasi ja osoitat, että osaat soveltaa tietojasi ja taitojasi käytännön asiantuntijatehtävässä.\n",
            "\n",
            "Ylemmän ammattikorkeakoulun opinnäytetyö on laajuudeltaan 30 opintopistettä ja vastaa EQF tasoa 7 ja alemman ammattikorkeakoulututkinnon opinnäytetyön laajuus on 15 op (EQF 6). Työt eroavat toisistaan jo käytössä olevan työmäärän osalta, sillä ylemmän ammattikorkeakoulututkinnon opinnäytetyö vastaa noin 810 opiskelijan työtuntia, ja muutettuna kuukausiksi se vastaa noin viittä työkuukautta kokoaikaisesti opinnäytetyötä tehden. Alla on kuvattu keskeisiltä osin ylemmän ammattikorkeakoulututkinnon opinnäytetyön ominaispiirteitä:  \n",
            "\n",
            " \n",
            "\n",
            "Tutkimuksellinen kehittäminen: Ylemmän ammattikorkeakoulututkinnon opinnäytetyön lähtökohtana on aina tutkimuksellinen kehittäminen. Tavoitteena on kehittää, osoittaa kykyä soveltaa tutkimustietoa ja käyttää valittuja menetelmiä työelämän ongelmien erittelyyn.  \n",
            "\n",
            "Menetelmien hallinta: Valittuja tutkimus- ja/tai kehittämismenetelmiä käytetään hallitusti ja perustellusti eli tutkimus- ja kehittämisprosessien hallinta on kattavampaa ja läpinäkyvämpää.  \n",
            "\n",
            "Tiedonhaku ja tutkimustiedon soveltaminen: Opinnäytetyön aiheeseen liittyvä tiedonhaku on järjestelmällistä ja painottunut kattavasti alan tietokannoista saatavaan tutkimuslähteistöön, myös kansainväliseen.  Lähdemateriaalia on hyödynnetty synteesikirjoittamisen keinoin.  \n",
            "\n",
            "Itsenäinen rooli: Opinnäytetyön toteuttamisessa korostuu itsenäinen rooli ongelmien ratkaisemiseen sekä valmius itsenäiseen vaativaan asiantuntijatyöhön.  \n",
            "\n",
            "Hyödynnettävyys ja merkitys: Opinnäytetyö tuottaa tietoa, jota yhteistyötahoa laajempi yleisö voi hyödyntää. Opinnäytetyön tuottamaa tietoa voivat hyödyntää muut vastaavat toimijat, ammattiala ja/tai tuloksilla on yhteiskunnallista merkittävyyttä. Ale\n",
            "\n",
            "[210 | 513.27] loss=0.01 avg=0.22\n",
            "[220 | 536.82] loss=0.01 avg=0.21\n",
            "[230 | 560.35] loss=0.01 avg=0.20\n",
            "[240 | 583.87] loss=0.01 avg=0.19\n",
            "[250 | 607.34] loss=0.01 avg=0.18\n",
            "[260 | 630.82] loss=0.01 avg=0.18\n",
            "[270 | 654.31] loss=0.01 avg=0.17\n",
            "[280 | 677.80] loss=0.01 avg=0.16\n",
            "[290 | 701.27] loss=0.01 avg=0.16\n",
            "[300 | 724.70] loss=0.01 avg=0.15\n",
            "[310 | 748.15] loss=0.01 avg=0.15\n",
            "[320 | 771.58] loss=0.01 avg=0.14\n",
            "[330 | 794.99] loss=0.01 avg=0.14\n",
            "[340 | 818.43] loss=0.01 avg=0.13\n",
            "[350 | 841.86] loss=0.01 avg=0.13\n",
            "[360 | 865.29] loss=0.01 avg=0.12\n",
            "[370 | 888.75] loss=0.01 avg=0.12\n",
            "[380 | 912.19] loss=0.01 avg=0.12\n"
          ]
        }
      ]
    },
    {
      "cell_type": "markdown",
      "metadata": {
        "id": "IXSuTNERaw6K"
      },
      "source": [
        "After the model is trained, you can copy the checkpoint folder to your own Google Drive.\n",
        "\n",
        "If you want to download it to your personal computer, it's strongly recommended you copy it there first, then download from Google Drive. The checkpoint folder is copied as a `.rar` compressed file; you can download it and uncompress it locally."
      ]
    },
    {
      "cell_type": "code",
      "metadata": {
        "id": "VHdTL8NDbAh3"
      },
      "source": [
        "gpt2.copy_checkpoint_to_gdrive(run_name='run1')"
      ],
      "execution_count": 10,
      "outputs": []
    },
    {
      "cell_type": "code",
      "source": [
        "from google.colab import drive\n",
        "drive.mount('/content/drive')"
      ],
      "metadata": {
        "colab": {
          "base_uri": "https://localhost:8080/"
        },
        "id": "2oh0gLJtxS5K",
        "outputId": "20672a5e-e930-48f1-d5df-da5484984ca1"
      },
      "execution_count": 4,
      "outputs": [
        {
          "output_type": "stream",
          "name": "stdout",
          "text": [
            "Drive already mounted at /content/drive; to attempt to forcibly remount, call drive.mount(\"/content/drive\", force_remount=True).\n"
          ]
        }
      ]
    },
    {
      "cell_type": "markdown",
      "metadata": {
        "id": "qQJgV_b4bmzd"
      },
      "source": [
        "You're done! Feel free to go to the **Generate Text From The Trained Model** section to generate text based on your retrained model."
      ]
    },
    {
      "cell_type": "markdown",
      "metadata": {
        "id": "pel-uBULXO2L"
      },
      "source": [
        "## Load a Trained Model Checkpoint\n",
        "\n",
        "Running the next cell will copy the `.rar` checkpoint file from your Google Drive into the Colaboratory VM."
      ]
    },
    {
      "cell_type": "code",
      "metadata": {
        "id": "DCcx5u7sbPTD"
      },
      "source": [
        "gpt2.copy_checkpoint_from_gdrive(run_name='run1')"
      ],
      "execution_count": 11,
      "outputs": []
    },
    {
      "cell_type": "markdown",
      "metadata": {
        "id": "RTa6zf3e_9gV"
      },
      "source": [
        "The next cell will allow you to load the retrained model checkpoint + metadata necessary to generate text.\n",
        "\n",
        "**IMPORTANT NOTE:** If you want to rerun this cell, **restart the VM first** (Runtime -> Restart Runtime). You will need to rerun imports but not recopy files."
      ]
    },
    {
      "cell_type": "code",
      "metadata": {
        "id": "-fxL77nvAMAX"
      },
      "source": [
        "sess = gpt2.start_tf_sess()\n",
        "gpt2.load_gpt2(sess, run_name='run1')"
      ],
      "execution_count": null,
      "outputs": []
    },
    {
      "cell_type": "markdown",
      "metadata": {
        "id": "ClJwpF_ACONp"
      },
      "source": [
        "## Generate Text From The Trained Model\n",
        "\n",
        "After you've trained the model or loaded a retrained model from checkpoint, you can now generate text. `generate` generates a single text from the loaded model."
      ]
    },
    {
      "cell_type": "code",
      "metadata": {
        "id": "4RNY6RBI9LmL",
        "outputId": "e5686f39-668d-41d6-914e-f383d563d1eb",
        "colab": {
          "base_uri": "https://localhost:8080/"
        }
      },
      "source": [
        "gpt2.generate(sess, run_name='run1', prefix=\"kertoisitko opinnäytetyön tavoitteet\")"
      ],
      "execution_count": 23,
      "outputs": [
        {
          "output_type": "stream",
          "name": "stdout",
          "text": [
            "kertoisitko opinnäytetyön tavoitteeti, ist, siets, zenträngektivisti.\n",
            "\n",
            "[80] It is possible that the decree indicates that the workers' draft should have been replaced by the workers' economy. This is because the workers' economy is already the means by which the workers are to maintain their position, and they possess the means to do so. Thus, the workers' economy is the means by which they exercise their right to self-management and labour control by organizing the means to this end, and by establishing the conditions necessary for their own emancipation and self-management.\n",
            "\n",
            "[81] As the situation in France shows, the French workers' economy is in a way the means by which they are to exercise their right to self-management and labour control by organizing the means to this end. The workers' economy is a product of the exploitation of the French working class, and is therefore of the same nature as the capitalist industry. Even though the French capitalists cannot obtain the necessary means to produce their product, they can perpetuate the conditions of exploitation by producing their products. This is a direct contradiction to the present theory of the French workers' economy, which is the basis for the theory of the French workers' economy.\n",
            "\n",
            "[82] The French workers' economy is one of the forms of the workers' economy which are already in existence in other countries. The French workers' economy is already an organism of the capitalist system. The workers' economy is an organism of the capitalist system.\n",
            "\n",
            "[83] The French workers' economy is the form of the workers' economy which is already in existence in other countries. The French workers' economy is an organism of the capitalist system.\n",
            "\n",
            "[84] The French workers' economy is the bourgeois economy which is already in existence in other countries. The French workers' economy is an organism of the capitalist system.\n",
            "\n",
            "[85] The French workers' economy is the product of the exploitation of the French working class, and is therefore an organism of the capitalist system.\n",
            "\n",
            "It is important for us to point out that the French workers' economy is not the product of the exploitation of the French working class, but rather of the proletarian revolution. It is not the product of the exploitation of the bourgeoisie, but rather of the revolutionary movement of the working class, which is the basis of the proletarian revolution. The French workers' economy is a form of the proletariat's exploitation of the French working class, and it is not the product of the exploitation of the bourgeoisie. The French workers' economy is the product of the exploitation of the bourgeoisie, and it is therefore an organism of the bourgeois revolution.\n",
            "\n",
            "[86] The French workers' economy is a form of the bourgeoisie's exploitation of the French working class, and it is therefore an organism of the bourgeoisie.\n",
            "\n",
            "[87] The French workers' economy is a form of the bourgeoisie's exploitation of the French working class, and it is therefore an organism of the bourgeoisie.\n",
            "\n",
            "[88] The French workers' economy is an organism of the bourgeoisie's exploitation of the French working class, and it is therefore an organism of the bourgeoisie.\n",
            "\n",
            "[89] The French workers' economy is the product of the exploitation of the French working class, and it is therefore an organism of the bourgeoisie.\n",
            "\n",
            "[90] The French workers' economy is the product of the exploitation of the French working class, and it is therefore an organism of the bourgeoisie.\n",
            "\n",
            "[91] The French workers' economy is the product of the exploitation of the French working class, and it is therefore an organism of the bourgeoisie.\n",
            "\n",
            "[92] In the above quotation, we have pointed out that the French workers' economy is not the product of the exploitation of the French working class, but rather of the proletarian revolution. We have also pointed out that the French workers' economy is not the product of the exploitation of the French working class, but rather of the proletarian revolution.\n",
            "\n",
            "The French workers' economy is the product of the exploitation of the French working class, and it is therefore an organism of the bourgeoisie.\n",
            "\n",
            "[93] The French workers' economy is the product of the exploitation of the French working class, and it is therefore an organism of the bourgeois revolution.\n",
            "\n",
            "[94] The French workers' economy is the product of the exploitation of the French working class, and it is therefore an organism of the bourgeoisie.\n",
            "\n",
            "[95] The French workers' economy is the product of the exploitation of the French working class, and it is therefore an organism of the bourgeoisie.<|endoftext|>An 18-year-old transgender woman was arrested in North Carolina on Wednesday after she allegedly tried to use the bathroom at a a North Carolina-based homeless shelter.\n",
            "\n",
            "The Charlotte Observer reports that the victim was arrested after trying to use a bathroom at the North Carolina Women's Shelter, a five-bed facility that was set up at the Asheville\n"
          ]
        }
      ]
    },
    {
      "cell_type": "markdown",
      "metadata": {
        "id": "oF4-PqF0Fl7R"
      },
      "source": [
        "If you're creating an API based on your model and need to pass the generated text elsewhere, you can do `text = gpt2.generate(sess, return_as_list=True)[0]`\n",
        "\n",
        "You can also pass in a `prefix` to the generate function to force the text to start with a given character sequence and generate text from there (good if you add an indicator when the text starts).\n",
        "\n",
        "You can also generate multiple texts at a time by specifing `nsamples`. Unique to GPT-2, you can pass a `batch_size` to generate multiple samples in parallel, giving a massive speedup (in Colaboratory, set a maximum of 20 for `batch_size`).\n",
        "\n",
        "Other optional-but-helpful parameters for `gpt2.generate` and friends:\n",
        "\n",
        "*  **`length`**: Number of tokens to generate (default 1023, the maximum)\n",
        "* **`temperature`**: The higher the temperature, the crazier the text (default 0.7, recommended to keep between 0.7 and 1.0)\n",
        "* **`top_k`**: Limits the generated guesses to the top *k* guesses (default 0 which disables the behavior; if the generated output is super crazy, you may want to set `top_k=40`)\n",
        "* **`top_p`**: Nucleus sampling: limits the generated guesses to a cumulative probability. (gets good results on a dataset with `top_p=0.9`)\n",
        "* **`truncate`**: Truncates the input text until a given sequence, excluding that sequence (e.g. if `truncate='<|endoftext|>'`, the returned text will include everything before the first `<|endoftext|>`). It may be useful to combine this with a smaller `length` if the input texts are short.\n",
        "*  **`include_prefix`**: If using `truncate` and `include_prefix=False`, the specified `prefix` will not be included in the returned text."
      ]
    },
    {
      "cell_type": "code",
      "metadata": {
        "id": "8DKMc0fiej4N",
        "outputId": "7246c00e-0fc7-43d9-cd6b-4e45b8660ac2",
        "colab": {
          "base_uri": "https://localhost:8080/"
        }
      },
      "source": [
        "gpt2.generate(sess,\n",
        "              length=250,\n",
        "              temperature=0.7,\n",
        "              prefix=\"LORD\",\n",
        "              nsamples=5,\n",
        "              batch_size=5\n",
        "              )"
      ],
      "execution_count": 14,
      "outputs": [
        {
          "output_type": "stream",
          "name": "stdout",
          "text": [
            "LORD: I'm sorry. I need to get back to you.\n",
            "\n",
            "LORD: You have to.\n",
            "\n",
            "LORD: I'm sorry.\n",
            "\n",
            "LORD: I'm sorry. I'm sorry.\n",
            "\n",
            "LORD: I'm sorry.\n",
            "\n",
            "LORD: I'm sorry.\n",
            "\n",
            "LORD: I'm sorry.\n",
            "\n",
            "LORD: I'm sorry. I need to get back to you.\n",
            "\n",
            "LORD: I'm sorry.\n",
            "\n",
            "LORD: I'm sorry.\n",
            "\n",
            "LORD: I'm sorry.\n",
            "\n",
            "LORD: I'm sorry.\n",
            "\n",
            "LORD: I'm sorry.\n",
            "\n",
            "LORD: I'm sorry.\n",
            "\n",
            "LORD: I'm sorry.\n",
            "\n",
            "LORD: I'm sorry.\n",
            "\n",
            "LORD: I'm sorry.\n",
            "\n",
            "LORD: I'm sorry.\n",
            "\n",
            "LORD: I'm sorry.\n",
            "\n",
            "LORD: I'm sorry.\n",
            "\n",
            "LORD: I'm sorry.\n",
            "\n",
            "LORD: I'm sorry.\n",
            "\n",
            "LORD: I'm sorry.\n",
            "\n",
            "LORD: I'm sorry.\n",
            "\n",
            "LORD: I'm sorry.\n",
            "\n",
            "LORD: I'm sorry.\n",
            "====================\n",
            "LORD, Dan. (June 9, 2016) – At least two small-scale Cambodian military commissions in Cambodia's southern Hanoi region have been dissolved after the China-backed military left the country to take control of the country's disputed border, the country's state-run Global Times reports.\n",
            "\n",
            "The military commissions were established in 2011 following similar protests by Cambodians in the Hanoi region following the collapse of the Communist Party's Central Committee in 2006. During the crackdown on the country's civil war, which has killed more than 3.5 million people, the Cambodian military has maintained close ties with Beijing and has received billions in aid.\n",
            "\n",
            "\"The military commissions are a clear departure from previous military commissions, but the main change is that they are no longer controlled by the Chinese and are instead controlled by the military commissions themselves,\" said Wu Chien, deputy head of the 1950 Republic Military Commission, which oversees military affairs in the province.\n",
            "\n",
            "\"They are not controlled by the Chinese. The military commissions are a clear departure from previous military commissions, but the main change is that they are no longer controlled by the Chinese and are instead controlled by the military commissions themselves,\" said Wu Chien, deputy head of the 1950\n",
            "====================\n",
            "LORD: Oh, I was just saying, \"There's nothing. Just…we're just good people.\"\n",
            "\n",
            "BONES: Yeah, that's what I meant.\n",
            "\n",
            "BONES: We're all great people, right?\n",
            "\n",
            "RUTH: We're all good people!\n",
            "\n",
            "BONES: Yeah, I mean, that's kind of how it works. I mean, a lot of people, especially the people who can't figure out how to become more successful, and they're kind of like, \"Oh, I'm really, really good at this.\" And then they get really, really good at it. And it's not like they look like they're going to start making money, or like they're going to take a student loan, or something like that, or they're going to graduate from college. It's just—it's just incredible. And it's just amazing what's happened.\n",
            "\n",
            "RUTH: Oh, I actually remember when I was in high school, I was just like, \"Wow, this is what life is like. You're going to have to go to college, right?\" And I was like, \"No, no, no! I'm going to do these things\n",
            "====================\n",
            "LORDER_DEFAULT) ||\n",
            "\n",
            "( GetValueAt ( http://localhost:3000 ). GetLine (), ' 0 ' ). Length );\n",
            "\n",
            "}\n",
            "\n",
            "// Check if a value is referenced\n",
            "\n",
            "if ( strcmp (value, ValueAt ( http://localhost:3000 ), ' 0 ' ))\n",
            "\n",
            "return false ;\n",
            "\n",
            "// Check if a value is non-null\n",
            "\n",
            "if ( strcmp (value, ValueAt ( http://localhost:3000 ), ' null ' ))\n",
            "\n",
            "return true ;\n",
            "\n",
            "// If the value is non-null, check if it's a valid substring\n",
            "\n",
            "if ( strcmp (value, ValueAt ( http://localhost:3000 ), ' null ' ))\n",
            "\n",
            "return false ;\n",
            "\n",
            "return true ;\n",
            "\n",
            "}\n",
            "\n",
            "func <: [ string ]> GetValueAt ( string http . ResponseWriter ) error {\n",
            "\n",
            "Uri * p = ( uri *) http . Request ;\n",
            "\n",
            "ParsedError * p = p . GetValueAt ( http . ResponseWriter , error );\n",
            "\n",
            "if p . Message && p . Message . IsNullOrEmpty () {\n",
            "\n",
            "return error ;\n",
            "\n",
            "}\n",
            "\n",
            "return error ;\n",
            "\n",
            "}\n",
            "====================\n",
            "LORD: You can't talk if you're not careful.\n",
            "\n",
            "CANDY: No, I can't talk. But he's still here.\n",
            "\n",
            "DAN: There's a girl in that car who's been arrested because she's the police chief. She's a bully.\n",
            "\n",
            "CANDY: You know, you've never been in that situation before.\n",
            "\n",
            "DAN: I have.\n",
            "\n",
            "CANDY: That's great.\n",
            "\n",
            "DAN: That's great.\n",
            "\n",
            "CANDY: I'm gonna say it again.\n",
            "\n",
            "DAN: And it's a very difficult situation for me. I think we're going to get to a place where we can actually talk about whether we're going to have the same sort of respect for each other.\n",
            "\n",
            "CANDY: And I mean, what benefits do you think that would have?\n",
            "\n",
            "DAN: I would love to be able to be honest with you, you know?\n",
            "\n",
            "CANDY: But I really don't know.\n",
            "\n",
            "DAN: You know, I do know a lot about you.\n",
            "\n",
            "CANDY: Well, it's gonna be a little bit of a hard sell.\n",
            "====================\n"
          ]
        }
      ]
    },
    {
      "cell_type": "markdown",
      "metadata": {
        "id": "zjjEN2Tafhl2"
      },
      "source": [
        "For bulk generation, you can generate a large amount of text to a file and sort out the samples locally on your computer. The next cell will generate a generated text file with a unique timestamp.\n",
        "\n",
        "You can rerun the cells as many times as you want for even more generated texts!"
      ]
    },
    {
      "cell_type": "code",
      "metadata": {
        "id": "Fa6p6arifSL0"
      },
      "source": [
        "from datetime import datetime # imports the datetime module\n",
        "\n",
        "gen_file = 'gpt2_gentext_{:%Y%m%d_%H%M%S}.txt'.format(datetime.utcnow())\n",
        "\n",
        "gpt2.generate_to_file(sess,\n",
        "                      destination_path=gen_file,\n",
        "                      length=500,\n",
        "                      temperature=0.7,\n",
        "                      nsamples=100,\n",
        "                      batch_size=20\n",
        "                      )"
      ],
      "execution_count": 16,
      "outputs": []
    },
    {
      "cell_type": "code",
      "metadata": {
        "id": "0-LRex8lfv1g",
        "colab": {
          "base_uri": "https://localhost:8080/",
          "height": 17
        },
        "outputId": "00fdcd95-be94-48cf-fbd6-63ee144bee2f"
      },
      "source": [
        "# import the files object from google.colab\n",
        "from google.colab import files\n",
        "\n",
        "# may have to run twice to get file to download\n",
        "files.download(gen_file)"
      ],
      "execution_count": 18,
      "outputs": [
        {
          "output_type": "display_data",
          "data": {
            "text/plain": [
              "<IPython.core.display.Javascript object>"
            ],
            "application/javascript": [
              "\n",
              "    async function download(id, filename, size) {\n",
              "      if (!google.colab.kernel.accessAllowed) {\n",
              "        return;\n",
              "      }\n",
              "      const div = document.createElement('div');\n",
              "      const label = document.createElement('label');\n",
              "      label.textContent = `Downloading \"${filename}\": `;\n",
              "      div.appendChild(label);\n",
              "      const progress = document.createElement('progress');\n",
              "      progress.max = size;\n",
              "      div.appendChild(progress);\n",
              "      document.body.appendChild(div);\n",
              "\n",
              "      const buffers = [];\n",
              "      let downloaded = 0;\n",
              "\n",
              "      const channel = await google.colab.kernel.comms.open(id);\n",
              "      // Send a message to notify the kernel that we're ready.\n",
              "      channel.send({})\n",
              "\n",
              "      for await (const message of channel.messages) {\n",
              "        // Send a message to notify the kernel that we're ready.\n",
              "        channel.send({})\n",
              "        if (message.buffers) {\n",
              "          for (const buffer of message.buffers) {\n",
              "            buffers.push(buffer);\n",
              "            downloaded += buffer.byteLength;\n",
              "            progress.value = downloaded;\n",
              "          }\n",
              "        }\n",
              "      }\n",
              "      const blob = new Blob(buffers, {type: 'application/binary'});\n",
              "      const a = document.createElement('a');\n",
              "      a.href = window.URL.createObjectURL(blob);\n",
              "      a.download = filename;\n",
              "      div.appendChild(a);\n",
              "      a.click();\n",
              "      div.remove();\n",
              "    }\n",
              "  "
            ]
          },
          "metadata": {}
        },
        {
          "output_type": "display_data",
          "data": {
            "text/plain": [
              "<IPython.core.display.Javascript object>"
            ],
            "application/javascript": [
              "download(\"download_a3d90c6c-8bad-46be-84a6-77ab68dfec1b\", \"gpt2_gentext_20240905_063615.txt\", 206657)"
            ]
          },
          "metadata": {}
        }
      ]
    },
    {
      "cell_type": "markdown",
      "metadata": {
        "id": "QQAN3M6RT7Kj"
      },
      "source": [
        "## Generate Text From The Pretrained Model\n",
        "\n",
        "If you want to generate text from the pretrained model, not a finetuned model, pass `model_name` to `gpt2.load_gpt2()` and `gpt2.generate()`.\n",
        "\n",
        "This is currently the only way to generate text from the 774M or 1558M models with this notebook."
      ]
    },
    {
      "cell_type": "code",
      "metadata": {
        "id": "hsUd_jHgUZnD"
      },
      "source": [
        "model_name = \"774M\"\n",
        "\n",
        "gpt2.download_gpt2(model_name=model_name)"
      ],
      "execution_count": null,
      "outputs": []
    },
    {
      "cell_type": "code",
      "metadata": {
        "id": "BAe4NpKNUj2C",
        "outputId": "b09bfe1d-2ff8-4b8a-fffb-273d28d5d4ae",
        "colab": {
          "base_uri": "https://localhost:8080/",
          "height": 124
        }
      },
      "source": [
        "sess = gpt2.start_tf_sess()\n",
        "\n",
        "gpt2.load_gpt2(sess, model_name=model_name)"
      ],
      "execution_count": null,
      "outputs": [
        {
          "output_type": "stream",
          "text": [
            "WARNING: Logging before flag parsing goes to stderr.\n",
            "W0828 18:37:58.571830 139905369159552 deprecation.py:323] From /usr/local/lib/python3.6/dist-packages/tensorflow/python/training/saver.py:1276: checkpoint_exists (from tensorflow.python.training.checkpoint_management) is deprecated and will be removed in a future version.\n",
            "Instructions for updating:\n",
            "Use standard file APIs to check for files with this prefix.\n"
          ],
          "name": "stderr"
        },
        {
          "output_type": "stream",
          "text": [
            "Loading pretrained model models/774M/model.ckpt\n"
          ],
          "name": "stdout"
        }
      ]
    },
    {
      "cell_type": "code",
      "metadata": {
        "id": "-xInIZKaU104",
        "outputId": "56348e28-7d08-45e3-c859-f26c0efd066d",
        "colab": {
          "base_uri": "https://localhost:8080/",
          "height": 797
        }
      },
      "source": [
        "gpt2.generate(sess,\n",
        "              model_name=model_name,\n",
        "              prefix=\"The secret of life is\",\n",
        "              length=100,\n",
        "              temperature=0.7,\n",
        "              top_p=0.9,\n",
        "              nsamples=5,\n",
        "              batch_size=5\n",
        "              )"
      ],
      "execution_count": null,
      "outputs": [
        {
          "output_type": "stream",
          "text": [
            "The secret of life is that it's really easy to make it complicated,\" said Bill Nye, the host of the popular science show \"Bill Nye the Science Guy.\" \"And this is one of the reasons why we all need to be smarter about science, because we can't keep up with the amazing things that are going on all the time.\"\n",
            "\n",
            "While Nye is correct that \"everything that's going on all the time\" is making the world a better place, he misses the point. This is not\n",
            "====================\n",
            "The secret of life is in the rhythm of the universe. It's not a mystery. It's not a mystery to me. It's the nature of the universe. It's the beauty of the universe. It's the way the universe works. It's the way the universe is. It's the way the universe is going to work. It's the way the universe is. It's the way the universe is. It's the way the universe is. It's the way the universe is. It's the way\n",
            "====================\n",
            "The secret of life is in the universe.\n",
            "\n",
            "\n",
            "-\n",
            "\n",
            "The Red Devil\n",
            "\n",
            "It's the end of the world as we know it, and the only thing that can save us is a band of super-powered individuals known as the Red Devil.\n",
            "\n",
            "\n",
            "The Red Devil is a group of super-powered individuals who are seeking the secret of life and the only way they know how to do it is by taking on the roles of a variety of different super-powered individuals, each of which has their own\n",
            "====================\n",
            "The secret of life is in the mixing of the elements, and it is the mixing of the elements that makes life possible.\"\n",
            "\n",
            "But in the world of food science, the idea of a \"complex\" or \"complexity\" is almost entirely imaginary.\n",
            "\n",
            "As a scientist, I'm fascinated by the question of how life first began.\n",
            "\n",
            "It's the question that drives my work and the work of the scientists who work on it.\n",
            "\n",
            "My current research is exploring how microbes work in the first moments\n",
            "====================\n",
            "The secret of life is the journey of life, the search for the truth.\n",
            "\n",
            "4.4.2. The last thing you know\n",
            "\n",
            "There is nothing more important than the last thing you know.\n",
            "\n",
            "4.4.3. The little things that make all the difference\n",
            "\n",
            "The little things that make all the difference.\n",
            "\n",
            "4.4.4. The truth is the best teacher\n",
            "\n",
            "The truth is the best teacher.\n",
            "\n",
            "4.4.5. The truth is what\n",
            "====================\n"
          ],
          "name": "stdout"
        }
      ]
    },
    {
      "cell_type": "markdown",
      "metadata": {
        "id": "ig-KVgkCDCKD"
      },
      "source": [
        "# Etcetera\n",
        "\n",
        "If the notebook has errors (e.g. GPU Sync Fail), force-kill the Colaboratory virtual machine and restart it with the command below:"
      ]
    },
    {
      "cell_type": "code",
      "metadata": {
        "id": "rIHiVP53FnsX"
      },
      "source": [
        "!kill -9 -1"
      ],
      "execution_count": null,
      "outputs": []
    },
    {
      "cell_type": "markdown",
      "metadata": {
        "id": "wmTXWNUygS5E"
      },
      "source": [
        "# LICENSE\n",
        "\n",
        "MIT License\n",
        "\n",
        "Copyright (c) 2019 Max Woolf\n",
        "\n",
        "Permission is hereby granted, free of charge, to any person obtaining a copy\n",
        "of this software and associated documentation files (the \"Software\"), to deal\n",
        "in the Software without restriction, including without limitation the rights\n",
        "to use, copy, modify, merge, publish, distribute, sublicense, and/or sell\n",
        "copies of the Software, and to permit persons to whom the Software is\n",
        "furnished to do so, subject to the following conditions:\n",
        "\n",
        "The above copyright notice and this permission notice shall be included in all\n",
        "copies or substantial portions of the Software.\n",
        "\n",
        "THE SOFTWARE IS PROVIDED \"AS IS\", WITHOUT WARRANTY OF ANY KIND, EXPRESS OR\n",
        "IMPLIED, INCLUDING BUT NOT LIMITED TO THE WARRANTIES OF MERCHANTABILITY,\n",
        "FITNESS FOR A PARTICULAR PURPOSE AND NONINFRINGEMENT. IN NO EVENT SHALL THE\n",
        "AUTHORS OR COPYRIGHT HOLDERS BE LIABLE FOR ANY CLAIM, DAMAGES OR OTHER\n",
        "LIABILITY, WHETHER IN AN ACTION OF CONTRACT, TORT OR OTHERWISE, ARISING FROM,\n",
        "OUT OF OR IN CONNECTION WITH THE SOFTWARE OR THE USE OR OTHER DEALINGS IN THE\n",
        "SOFTWARE."
      ]
    }
  ]
}